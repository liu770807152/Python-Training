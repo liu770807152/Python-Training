{
 "cells": [
  {
   "cell_type": "markdown",
   "metadata": {
    "collapsed": true,
    "pycharm": {
     "name": "#%% md\n"
    }
   },
   "source": [
    "### 要搜集的数据\n",
    "1. 时间上最近的文件是哪个\n",
    "- 最近一个病例\n",
    "- 总**病例数**和总死亡数 (按/不按国家分组)\n",
    "- 总**活跃病例数**+总康复数 (按国家分组)\n",
    "*计算公式可以参考https://towardsdatascience.com/calculating-live-covid-19-cases-from-deaths-e70e5df45f60*\n",
    "- 除了第一天外，每天和每周的总病例数和总死亡数\n",
    "- 最后一天的总病例数+总死亡数 (按国家分组)"
   ]
  },
  {
   "cell_type": "code",
   "execution_count": 1,
   "outputs": [],
   "source": [
    "import os\n",
    "import csv\n",
    "from datetime import datetime"
   ],
   "metadata": {
    "collapsed": false,
    "pycharm": {
     "name": "#%%\n"
    }
   }
  },
  {
   "cell_type": "code",
   "execution_count": 2,
   "outputs": [],
   "source": [
    "def getfiletable(file):\n",
    "    with open('./covid-data/%s' % file) as csvfile:\n",
    "        reader = csv.reader(csvfile)\n",
    "        table = [ row for row in reader ]\n",
    "    return table"
   ],
   "metadata": {
    "collapsed": false,
    "pycharm": {
     "name": "#%%\n"
    }
   }
  },
  {
   "cell_type": "code",
   "execution_count": 3,
   "outputs": [
    {
     "name": "stdout",
     "output_type": "stream",
     "text": [
      "['09-14-2021.csv', '09-13-2021.csv', '09-12-2021.csv', '09-11-2021.csv', '09-10-2021.csv', '09-09-2021.csv', '09-08-2021.csv', '09-07-2021.csv', '09-06-2021.csv', '09-05-2021.csv', '09-04-2021.csv', '09-03-2021.csv', '09-02-2021.csv', '09-01-2021.csv', '08-31-2021.csv', '08-30-2021.csv', '08-29-2021.csv', '08-28-2021.csv', '08-27-2021.csv', '08-26-2021.csv', '08-25-2021.csv', '08-24-2021.csv', '08-23-2021.csv', '08-22-2021.csv', '08-21-2021.csv', '08-20-2021.csv', '08-19-2021.csv', '08-18-2021.csv', '08-17-2021.csv', '08-16-2021.csv']\n"
     ]
    }
   ],
   "source": [
    "dirs = os.listdir('./covid-data')\n",
    "files = []\n",
    "for file in dirs:\n",
    "    filetype = os.path.splitext(file)[1]\n",
    "    if filetype == \".csv\":\n",
    "        files.append(file)\n",
    "files.sort(reverse=True)\n",
    "print(files)"
   ],
   "metadata": {
    "collapsed": false,
    "pycharm": {
     "name": "#%%\n"
    }
   }
  },
  {
   "cell_type": "code",
   "execution_count": 4,
   "outputs": [
    {
     "name": "stdout",
     "output_type": "stream",
     "text": [
      "2021-09-15 03:22:37 2\n",
      "2020-12-21 13:27:30 0\n",
      "39 days, 10:49:50.852193\n",
      "False\n"
     ]
    }
   ],
   "source": [
    "table = getfiletable(files[0])[1:]\n",
    "dt1 = datetime.strptime(table[1][4], '%Y-%m-%d %H:%M:%S')\n",
    "dt2 = datetime.strptime(table[79][4], '%Y-%m-%d %H:%M:%S')\n",
    "# 星期一为 0，星期天为 6\n",
    "print(dt1, datetime.weekday(dt1))\n",
    "print(dt2, datetime.weekday(dt2))\n",
    "# 两个datetime日期相减得到的是一个时间间隔对象(imedelta)\n",
    "print(datetime.now() - dt1)\n",
    "# 时间间隔对象(imedelta)可以比较大小\n",
    "print(datetime.now() - dt1 == datetime.now() - dt2)"
   ],
   "metadata": {
    "collapsed": false,
    "pycharm": {
     "name": "#%%\n"
    }
   }
  },
  {
   "cell_type": "code",
   "execution_count": 5,
   "outputs": [
    {
     "name": "stdout",
     "output_type": "stream",
     "text": [
      "{'Afghanistan': [38928341.0, 154180, 7171], 'Albania': [2877800.0, 158431, 2553], 'Algeria': [43851043.0, 200528, 5614], 'Andorra': [77265.0, 15099, 130], 'Angola': [32866268.000000004, 51047, 1358], 'Antigua and Barbuda': [97928.0, 2304, 48], 'Argentina': [45195776.99999999, 5229848, 113816], 'Armenia': [2963234.0, 249803, 5034], 'Australia': [25459700.0, 78544, 1116], 'Austria': [9006400.0, 713269, 10849], 'Azerbaijan': [10139175.0, 463326, 6167], 'Bahamas': [393248.0, 19601, 463], 'Bahrain': [1701583.0000000002, 273916, 1388], 'Bangladesh': [164689383.0, 1534440, 27007], 'Barbados': [287371.00000000006, 6053, 52], 'Belarus': [9449321.0, 506591, 3941], 'Belgium': [11431406.0, 1188296, 0], 'Belize': [397621.0, 17967, 383], 'Benin': [12123198.000000002, 21450, 146], 'Bhutan': [771611.9999999999, 2596, 3], 'Bolivia': [11673029.0, 495612, 18603], 'Bosnia and Herzegovina': [3280815.0, 222927, 10099], 'Botswana': [2351624.9999999995, 165644, 2337], 'Brazil': [210147125.0, 21019830, 587797], 'Brunei': [437483.0, 4431, 21], 'Bulgaria': [6948444.999999998, 475299, 19744], 'Burkina Faso': [20903278.0, 13959, 171], 'Burma': [54409794.00000001, 436527, 16693], 'Burundi': [11890781.0, 14189, 38], 'Cabo Verde': [555988.0, 36694, 323], 'Cambodia': [16718971.000000002, 100790, 2058], 'Cameroon': [26545864.0, 84210, 1357], 'Canada': [37894482.0, 1563117, 27314], 'Central African Republic': [4829764.0, 11309, 100], 'Chad': [16425859.0, 5019, 174], 'Chile': [17576779.0, 1644783, 37253], 'China': [1404676330.0, 107624, 4849], 'Colombia': [48258134.0, 4932998, 125417], 'Comoros': [869595.0000000001, 4100, 147], 'Congo (Brazzaville)': [5518092.0, 13701, 183], 'Congo (Kinshasa)': [89561404.00000001, 56215, 1068], 'Costa Rica': [5094114.0, 496736, 5851], \"Cote d'Ivoire\": [26378274.99999999, 58226, 534], 'Croatia': [4105268.0, 385056, 8456], 'Cuba': [11326616.0, 761060, 6449], 'Cyprus': [1207360.9999999998, 116494, 534], 'Czechia': [10708982.000000002, 1683802, 30416], 'Denmark': [5897840.0, 354511, 2616], 'Djibouti': [988002.0, 11897, 157], 'Dominica': [71991.0, 2634, 8], 'Dominican Republic': [10847904.0, 353887, 4020], 'Ecuador': [17643059.999999996, 505278, 32448], 'Egypt': [102334403.0, 293951, 16895], 'El Salvador': [6486201.000000001, 99701, 3043], 'Equatorial Guinea': [1402985.0, 10498, 131], 'Eritrea': [3546426.9999999986, 6661, 40], 'Estonia': [1326539.0, 147357, 1313], 'Eswatini': [1160164.0, 45084, 1186], 'Ethiopia': [114963582.99999999, 325379, 5001], 'Fiji': [896444.0000000001, 49244, 539], 'Finland': [5540718.0, 134305, 1052], 'France': [68186678.55922955, 7007436, 116454], 'Gabon': [2225728.0, 26903, 173], 'Gambia': [2416663.9999999995, 9848, 328], 'Georgia': [3989175.0, 585036, 8287], 'Germany': [83019213.0, 4102225, 92776], 'Ghana': [31072945.0, 123874, 1098], 'Greece': [10423056.0, 620355, 14268], 'Grenada': [112519.0, 2646, 35], 'Guatemala': [17915566.999999996, 515756, 12795], 'Guinea': [13132792.0, 30085, 368], 'Guinea-Bissau': [1967998.0, 6031, 127], 'Guyana': [786558.9999999999, 28234, 692], 'Haiti': [11402533.000000002, 21271, 596], 'Holy See': [809.0000000000001, 27, 0], 'Honduras': [9904608.0, 353641, 9370], 'Hungary': [9660350.0, 815851, 30102], 'Iceland': [341250.00000000006, 11307, 33], 'India': [1371336863.0, 33316755, 443497], 'Indonesia': [273523621.0, 4174216, 139415], 'Iran': [83992953.00000001, 5340656, 115167], 'Iraq': [40222503.0, 1959369, 21596], 'Ireland': [4937796.0, 368712, 5155], 'Israel': [8655541.0, 1194783, 7438], 'Italy': [60361006.0, 4613214, 130027], 'Jamaica': [2961160.9999999995, 76987, 1736], 'Japan': [126166948.0, 1648300, 16915], 'Jordan': [10203140.0, 809443, 10568], 'Kazakhstan': [18776707.0, 921440, 15031], 'Kenya': [53771299.99999999, 244380, 4928], 'Kiribati': [117606.00000000001, 2, 0], 'South': [51269183.0, 277989, 2380], 'Kosovo': [1810366.0, 157618, 2833], 'Kuwait': [4270563.0, 410901, 2434], 'Kyrgyzstan': [6524191.000000001, 177308, 2576], 'Laos': [7275556.0, 17682, 16], 'Latvia': [1886202.0000000002, 147788, 2621], 'Lebanon': [6825441.999999999, 614688, 8210], 'Lesotho': [2142251.9999999995, 14395, 403], 'Liberia': [5057677.000000001, 5727, 245], 'Libya': [6871287.0, 326370, 4457], 'Liechtenstein': [38137.0, 3390, 60], 'Lithuania': [2722291.0, 309855, 4721], 'Luxembourg': [625976.0, 76894, 834], 'Madagascar': [27691019.0, 42898, 958], 'Malawi': [19129955.0, 61171, 2244], 'Malaysia': [32365998.0, 2011440, 21587], 'Maldives': [540542.0, 83070, 227], 'Mali': [20250834.0, 14991, 543], 'Malta': [441539.0, 36843, 449], 'Marshall Islands': [58412.99999999999, 4, 0], 'Mauritania': [4649660.0, 35042, 760], 'Mauritius': [1271767.0, 13782, 45], 'Mexico': [128293973.62165815, 3528972, 269016], 'Micronesia': [113815.0, 1, 0], 'Moldova': [4033963.0000000005, 276701, 6548], 'Monaco': [39243.99999999999, 3284, 33], 'Mongolia': [3278292.0, 260709, 1056], 'Montenegro': [628062.0, 123129, 1813], 'Morocco': [36910557.99999999, 908349, 13683], 'Mozambique': [31255435.000000007, 149480, 1895], 'Namibia': [2540916.0, 126430, 3437], 'Nepal': [29136808.0, 779492, 10984], 'Netherlands': [17747554.0, 2005495, 18454], 'New Zealand': [4839692.0, 3982, 27], 'Nicaragua': [6624554.0, 13025, 202], 'Niger': [24206636.0, 5932, 201], 'Nigeria': [206139587.0, 200057, 2637], 'North Macedonia': [2083380.0, 184277, 6307], 'Norway': [5421242.0, 178481, 829], 'Oman': [5106622.0, 303223, 4090], 'Pakistan': [207831794.0, 1212809, 26938], 'Palau': [18008.0, 2, 0], 'Panama': [4314768.0, 462447, 7141], 'Papua New Guinea': [8947027.0, 18542, 204], 'Paraguay': [7132530.0, 459391, 16114], 'Peru': [32626000.0, 2161086, 198764], 'Philippines': [109581085.0, 2266066, 35529], 'Poland': [37846605.0, 2894455, 75433], 'Portugal': [10196707.0, 1057100, 17872], 'Qatar': [2881060.0, 234895, 604], 'Romania': [19237682.000000004, 1126582, 35132], 'Russia': [146644718.0, 7072825, 190793], 'Rwanda': [12952209.0, 93567, 1180], 'Saint Kitts and Nevis': [53192.00000000001, 1510, 8], 'Saint Lucia': [183629.0, 9971, 132], 'Saint Vincent and the Grenadines': [110947.00000000001, 2521, 13], 'Samoa': [196130.0, 3, 0], 'San Marino': [33938.0, 5399, 90], 'Sao Tome and Principe': [219161.00000000003, 2877, 42], 'Saudi Arabia': [34813867.0, 545829, 8610], 'Senegal': [16743930.000000002, 73513, 1837], 'Serbia': [8737370.0, 830884, 7601], 'Seychelles': [98340.00000000003, 20593, 106], 'Sierra Leone': [7976985.0, 6386, 121], 'Singapore': [5850343.0, 73131, 58], 'Slovakia': [5459643.0, 399218, 12562], 'Slovenia': [2078932.0, 277853, 4473], 'Solomon Islands': [652858.0, 20, 0], 'Somalia': [15893219.000000002, 18568, 1032], 'South Africa': [59308690.0, 2864534, 85302], 'South Sudan': [11193729.0, 11755, 121], 'Spain': [46937060.0, 4918526, 85548], 'Sri Lanka': [21413250.000000004, 490957, 11567], 'Sudan': [43849269.00000001, 37951, 2873], 'Suriname': [586634.0, 34637, 773], 'Sweden': [10327589.0, 1141673, 14729], 'Switzerland': [8654618.0, 816110, 10974], 'Syria': [17500657.0, 29805, 2090], 'Taiwan*': [23816775.0, 16098, 839], 'Tajikistan': [9537642.000000002, 17484, 125], 'Tanzania': [59734213.0, 1367, 50], 'Thailand': [69799978.0, 1406542, 14621], 'Timor-Leste': [1318442.0, 18715, 98], 'Togo': [8278737.0, 23947, 208], 'Trinidad and Tobago': [1399491.0, 47363, 1386], 'Tunisia': [11818618.0, 695406, 24274], 'Turkey': [84339067.0, 6710636, 60393], 'US': [331613147.5550979, 41089536, 643832], 'Uganda': [45741000.00000001, 121617, 3103], 'Ukraine': [45901049.0, 2424416, 57913], 'United Arab Emirates': [9890400.0, 730135, 2066], 'United Kingdom': [66976014.99999999, 7316931, 134774], 'Uruguay': [3473727.0, 387028, 6044], 'Uzbekistan': [33469199.0, 165421, 1164], 'Vanuatu': [292680.0, 4, 1], 'Venezuela': [28435942.999999993, 348873, 4214], 'Vietnam': [97338583.0, 635055, 15936], 'West Bank and Gaza': [5101416.0, 374768, 3837], 'Yemen': [29825967.999999996, 8502, 1608], 'Zambia': [18383956.0, 208049, 3635], 'Zimbabwe': [14862927.0, 126817, 4550]}\n"
     ]
    }
   ],
   "source": [
    "# 定个规则：{国家：[人口, 病例数, 死亡数]}\n",
    "incident_rate_map = dict()\n",
    "# 计算人口公式：number of cases * 100_000 / incident rate\n",
    "for row in table:\n",
    "    # You can ignore those rows where Incident_Rate is empty.\n",
    "    if row[-2] == '' or float(row[-2]) == 0:\n",
    "        continue\n",
    "    # 获取国家： table[X][-3].split(',')[-1].strip()\n",
    "    country = row[-3].split(',')[-1].strip()\n",
    "    cases, deaths, rate = int(row[7]), int(row[8]), float(row[-2])\n",
    "    data = incident_rate_map.setdefault(country, [])\n",
    "    if len(data) == 0:\n",
    "        data.append(cases * 100_000 / rate)\n",
    "        data.append(cases)\n",
    "        data.append(deaths)\n",
    "    else:\n",
    "        data[0] += cases * 100_000 / rate\n",
    "        data[1] += cases\n",
    "        data[2] += deaths\n",
    "print(incident_rate_map)"
   ],
   "metadata": {
    "collapsed": false,
    "pycharm": {
     "name": "#%%\n"
    }
   }
  }
 ],
 "metadata": {
  "kernelspec": {
   "display_name": "Python 3",
   "language": "python",
   "name": "python3"
  },
  "language_info": {
   "codemirror_mode": {
    "name": "ipython",
    "version": 2
   },
   "file_extension": ".py",
   "mimetype": "text/x-python",
   "name": "python",
   "nbconvert_exporter": "python",
   "pygments_lexer": "ipython2",
   "version": "2.7.6"
  }
 },
 "nbformat": 4,
 "nbformat_minor": 0
}